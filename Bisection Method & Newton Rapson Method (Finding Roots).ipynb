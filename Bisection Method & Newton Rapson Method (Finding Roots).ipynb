{
 "cells": [
  {
   "cell_type": "code",
   "execution_count": 29,
   "metadata": {},
   "outputs": [],
   "source": [
    "def Bisection(n):\n",
    "    itera=0\n",
    "    assert n>0 # N should be larger than 0\n",
    "    right=n\n",
    "    if n<=1:\n",
    "        right=1\n",
    "    left = 0\n",
    "    guess = (left + right)/2\n",
    "    eps = 1e-5\n",
    "    while abs(guess**2-n)>eps:\n",
    "        itera+=1\n",
    "        if guess**2-n > 0:\n",
    "            right = guess\n",
    "        else:\n",
    "            left = guess\n",
    "            \n",
    "        guess = (left + right)/2\n",
    "    print(itera)\n",
    "    return guess\n",
    "    "
   ]
  },
  {
   "cell_type": "code",
   "execution_count": 38,
   "metadata": {},
   "outputs": [
    {
     "name": "stdout",
     "output_type": "stream",
     "text": [
      "70\n"
     ]
    },
    {
     "data": {
      "text/plain": [
       "232615.53867487013"
      ]
     },
     "execution_count": 38,
     "metadata": {},
     "output_type": "execute_result"
    }
   ],
   "source": [
    "Bisection(54109988833)"
   ]
  },
  {
   "cell_type": "code",
   "execution_count": 25,
   "metadata": {},
   "outputs": [],
   "source": [
    "def Newton(n):\n",
    "    itera=0\n",
    "    assert n>0 # N should be larger than 0\n",
    "    guess = n\n",
    "    eps = 1e-5\n",
    "    f = guess**2-n\n",
    "    while abs(f)>eps:\n",
    "        itera+=1\n",
    "        guess=guess-f/(2*guess)\n",
    "        f=guess**2-n\n",
    "    print(itera)\n",
    "    return guess\n",
    "    "
   ]
  },
  {
   "cell_type": "code",
   "execution_count": 37,
   "metadata": {},
   "outputs": [
    {
     "name": "stdout",
     "output_type": "stream",
     "text": [
      "23\n"
     ]
    },
    {
     "data": {
      "text/plain": [
       "232615.53867487013"
      ]
     },
     "execution_count": 37,
     "metadata": {},
     "output_type": "execute_result"
    }
   ],
   "source": [
    "Newton(54109988833)"
   ]
  },
  {
   "cell_type": "code",
   "execution_count": null,
   "metadata": {},
   "outputs": [],
   "source": []
  }
 ],
 "metadata": {
  "kernelspec": {
   "display_name": "Python 3",
   "language": "python",
   "name": "python3"
  },
  "language_info": {
   "codemirror_mode": {
    "name": "ipython",
    "version": 3
   },
   "file_extension": ".py",
   "mimetype": "text/x-python",
   "name": "python",
   "nbconvert_exporter": "python",
   "pygments_lexer": "ipython3",
   "version": "3.6.3"
  }
 },
 "nbformat": 4,
 "nbformat_minor": 2
}
