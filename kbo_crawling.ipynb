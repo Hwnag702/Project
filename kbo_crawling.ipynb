{
 "cells": [
  {
   "cell_type": "code",
   "execution_count": 1,
   "metadata": {},
   "outputs": [],
   "source": [
    "import os"
   ]
  },
  {
   "cell_type": "code",
   "execution_count": 3,
   "metadata": {},
   "outputs": [],
   "source": [
    "os.chdir('C:/Users/HWNAG/Desktop/MJ\\'s_analysis')"
   ]
  },
  {
   "cell_type": "code",
   "execution_count": 4,
   "metadata": {},
   "outputs": [
    {
     "data": {
      "text/plain": [
       "\"C:\\\\Users\\\\HWNAG\\\\Desktop\\\\MJ's_analysis\""
      ]
     },
     "execution_count": 4,
     "metadata": {},
     "output_type": "execute_result"
    }
   ],
   "source": [
    "os.getcwd()"
   ]
  },
  {
   "cell_type": "code",
   "execution_count": 7,
   "metadata": {},
   "outputs": [],
   "source": [
    "import pandas as pd\n",
    "import numpy as np"
   ]
  },
  {
   "cell_type": "code",
   "execution_count": 18,
   "metadata": {},
   "outputs": [],
   "source": [
    "toto18 = pd.read_csv(\"toto_18_final.csv\", sep = ',', encoding = \"cp949\")"
   ]
  },
  {
   "cell_type": "code",
   "execution_count": 29,
   "metadata": {},
   "outputs": [],
   "source": [
    "kbo_18 = toto18.loc[toto18[toto18[\"League\"] == 'KBO'].index]"
   ]
  },
  {
   "cell_type": "code",
   "execution_count": 50,
   "metadata": {},
   "outputs": [],
   "source": [
    "kbo_18_df= kbo_18[(kbo_18[\"Result\"] == '홈패')|(kbo_18[\"Result\"] == '홈승')|(kbo_18[\"Result\"] == '무승부')]"
   ]
  },
  {
   "cell_type": "code",
   "execution_count": 48,
   "metadata": {},
   "outputs": [
    {
     "data": {
      "text/plain": [
       "380"
      ]
     },
     "execution_count": 48,
     "metadata": {},
     "output_type": "execute_result"
    }
   ],
   "source": [
    "len(kbo_18[(kbo_18[\"Result\"] == '홈승')])"
   ]
  },
  {
   "cell_type": "code",
   "execution_count": 47,
   "metadata": {},
   "outputs": [
    {
     "data": {
      "text/plain": [
       "320"
      ]
     },
     "execution_count": 47,
     "metadata": {},
     "output_type": "execute_result"
    }
   ],
   "source": [
    "len(kbo_18[(kbo_18[\"Result\"] == '홈패')])"
   ]
  },
  {
   "cell_type": "code",
   "execution_count": 43,
   "metadata": {},
   "outputs": [
    {
     "data": {
      "text/plain": [
       "0"
      ]
     },
     "execution_count": 43,
     "metadata": {},
     "output_type": "execute_result"
    }
   ],
   "source": [
    "len(kbo_18[(kbo_18[\"Result\"] == '핸디패')])"
   ]
  },
  {
   "cell_type": "code",
   "execution_count": 49,
   "metadata": {},
   "outputs": [
    {
     "data": {
      "text/plain": [
       "5"
      ]
     },
     "execution_count": 49,
     "metadata": {},
     "output_type": "execute_result"
    }
   ],
   "source": [
    "len(kbo_18[(kbo_18[\"Result\"] == '무승부')])"
   ]
  },
  {
   "cell_type": "code",
   "execution_count": 37,
   "metadata": {},
   "outputs": [
    {
     "data": {
      "text/plain": [
       "250"
      ]
     },
     "execution_count": 37,
     "metadata": {},
     "output_type": "execute_result"
    }
   ],
   "source": [
    "len(kbo_18[(kbo_18[\"Home_Team\"] == 'LG')|(kbo_18[\"Away_Team\"] == 'LG')])"
   ]
  },
  {
   "cell_type": "code",
   "execution_count": 38,
   "metadata": {},
   "outputs": [
    {
     "data": {
      "text/plain": [
       "253"
      ]
     },
     "execution_count": 38,
     "metadata": {},
     "output_type": "execute_result"
    }
   ],
   "source": [
    "len(kbo_18[(kbo_18[\"Home_Team\"] == '두산')|(kbo_18[\"Away_Team\"] == '두산')])"
   ]
  },
  {
   "cell_type": "code",
   "execution_count": 46,
   "metadata": {},
   "outputs": [
    {
     "data": {
      "text/plain": [
       "array(['홈승', '언더', '홈패', '오버', '취소', '무승부'], dtype=object)"
      ]
     },
     "execution_count": 46,
     "metadata": {},
     "output_type": "execute_result"
    }
   ],
   "source": [
    "kbo_18[\"Result\"].unique()"
   ]
  },
  {
   "cell_type": "code",
   "execution_count": 51,
   "metadata": {},
   "outputs": [
    {
     "data": {
      "text/plain": [
       "139"
      ]
     },
     "execution_count": 51,
     "metadata": {},
     "output_type": "execute_result"
    }
   ],
   "source": [
    "len(kbo_18_df[(kbo_18_df[\"Home_Team\"] == 'LG')|(kbo_18_df[\"Away_Team\"] == 'LG')])"
   ]
  },
  {
   "cell_type": "code",
   "execution_count": 52,
   "metadata": {},
   "outputs": [
    {
     "data": {
      "text/plain": [
       "144"
      ]
     },
     "execution_count": 52,
     "metadata": {},
     "output_type": "execute_result"
    }
   ],
   "source": [
    "len(kbo_18_df[(kbo_18_df[\"Home_Team\"] == '두산')|(kbo_18_df[\"Away_Team\"] == '두산')])"
   ]
  },
  {
   "cell_type": "code",
   "execution_count": 53,
   "metadata": {},
   "outputs": [
    {
     "data": {
      "text/plain": [
       "139"
      ]
     },
     "execution_count": 53,
     "metadata": {},
     "output_type": "execute_result"
    }
   ],
   "source": [
    "len(kbo_18_df[(kbo_18_df[\"Home_Team\"] == '삼성')|(kbo_18_df[\"Away_Team\"] == '삼성')])"
   ]
  },
  {
   "cell_type": "code",
   "execution_count": 55,
   "metadata": {},
   "outputs": [
    {
     "data": {
      "text/plain": [
       "146"
      ]
     },
     "execution_count": 55,
     "metadata": {},
     "output_type": "execute_result"
    }
   ],
   "source": [
    "len(kbo_18_df[(kbo_18_df[\"Home_Team\"] == '키움')|(kbo_18_df[\"Away_Team\"] == '키움')])"
   ]
  },
  {
   "cell_type": "code",
   "execution_count": 56,
   "metadata": {},
   "outputs": [
    {
     "data": {
      "text/plain": [
       "137"
      ]
     },
     "execution_count": 56,
     "metadata": {},
     "output_type": "execute_result"
    }
   ],
   "source": [
    "len(kbo_18_df[(kbo_18_df[\"Home_Team\"] == 'KT')|(kbo_18_df[\"Away_Team\"] == 'KT')])"
   ]
  },
  {
   "cell_type": "code",
   "execution_count": 57,
   "metadata": {},
   "outputs": [
    {
     "data": {
      "text/plain": [
       "143"
      ]
     },
     "execution_count": 57,
     "metadata": {},
     "output_type": "execute_result"
    }
   ],
   "source": [
    "len(kbo_18_df[(kbo_18_df[\"Home_Team\"] == '한화')|(kbo_18_df[\"Away_Team\"] == '한화')])"
   ]
  },
  {
   "cell_type": "code",
   "execution_count": 59,
   "metadata": {},
   "outputs": [
    {
     "data": {
      "text/plain": [
       "139"
      ]
     },
     "execution_count": 59,
     "metadata": {},
     "output_type": "execute_result"
    }
   ],
   "source": [
    "len(kbo_18_df[(kbo_18_df[\"Home_Team\"] == 'KIA')|(kbo_18_df[\"Away_Team\"] == 'KIA')])"
   ]
  },
  {
   "cell_type": "code",
   "execution_count": 60,
   "metadata": {},
   "outputs": [
    {
     "data": {
      "text/plain": [
       "139"
      ]
     },
     "execution_count": 60,
     "metadata": {},
     "output_type": "execute_result"
    }
   ],
   "source": [
    "len(kbo_18_df[(kbo_18_df[\"Home_Team\"] == 'NC')|(kbo_18_df[\"Away_Team\"] == 'NC')])"
   ]
  },
  {
   "cell_type": "code",
   "execution_count": 61,
   "metadata": {},
   "outputs": [
    {
     "data": {
      "text/plain": [
       "138"
      ]
     },
     "execution_count": 61,
     "metadata": {},
     "output_type": "execute_result"
    }
   ],
   "source": [
    "len(kbo_18_df[(kbo_18_df[\"Home_Team\"] == '롯데')|(kbo_18_df[\"Away_Team\"] == '롯데')])"
   ]
  },
  {
   "cell_type": "code",
   "execution_count": 144,
   "metadata": {},
   "outputs": [],
   "source": [
    "def unique(x):\n",
    "    a = []\n",
    "    for i in x:\n",
    "        if i not in a:\n",
    "            a.append(i)\n",
    "    return a"
   ]
  },
  {
   "cell_type": "code",
   "execution_count": 78,
   "metadata": {},
   "outputs": [],
   "source": [
    "from selenium import webdriver as wd\n",
    "from selenium.webdriver.common.keys import Keys\n",
    "import time\n",
    "import pandas as pd\n",
    "import numpy as np\n",
    "import time\n",
    "import datetime"
   ]
  },
  {
   "cell_type": "code",
   "execution_count": 199,
   "metadata": {},
   "outputs": [],
   "source": [
    "#구글 크롬실행\n",
    "driver=wd.Chrome(executable_path='chromedriver.exe')"
   ]
  },
  {
   "cell_type": "code",
   "execution_count": 200,
   "metadata": {},
   "outputs": [],
   "source": [
    "#네이버 접속\n",
    "driver.get('https://www.koreabaseball.com/Schedule/GameCenter/Main.aspx')"
   ]
  },
  {
   "cell_type": "code",
   "execution_count": 201,
   "metadata": {},
   "outputs": [],
   "source": [
    "link = driver.find_element_by_css_selector('#contents > div.date-select > ul > li.today > img')#날짜클릭\n",
    "link.click()"
   ]
  },
  {
   "cell_type": "code",
   "execution_count": 202,
   "metadata": {},
   "outputs": [],
   "source": [
    "for i in range(14):#2018년3월이동\n",
    "    link = driver.find_element_by_css_selector('#ui-datepicker-div > div > a.ui-datepicker-prev.ui-corner-all > span')\n",
    "    link.click()"
   ]
  },
  {
   "cell_type": "code",
   "execution_count": 203,
   "metadata": {},
   "outputs": [],
   "source": [
    "link = driver.find_element_by_css_selector('#ui-datepicker-div > table > tbody > tr:nth-child(4) > td:nth-child(7) > a')#24일 클릭\n",
    "link.click()#ui-datepicker-div > table > tbody > tr:nth-child(4) > td.ui-datepicker-current-day > a\n",
    "#ui-datepicker-div > table > tbody > tr:nth-child(4) > td:nth-child(7) > a\n",
    "#ui-datepicker-div > table > tbody > tr:nth-child(4) > td.ui-datepicker-current-day > a"
   ]
  },
  {
   "cell_type": "code",
   "execution_count": 224,
   "metadata": {},
   "outputs": [],
   "source": [
    "link = driver.find_element_by_css_selector('#lnkPrev > img')\n",
    "link.click()"
   ]
  },
  {
   "cell_type": "code",
   "execution_count": 225,
   "metadata": {
    "scrolled": true
   },
   "outputs": [
    {
     "ename": "NoSuchElementException",
     "evalue": "Message: no such element: Unable to locate element: {\"method\":\"css selector\",\"selector\":\"#contents > div.today-game > div > div.bx-viewport > ul > li:nth-child(4) > div.game-cont\"}\n  (Session info: chrome=74.0.3729.169)\n  (Driver info: chromedriver=2.44.609538 (b655c5a60b0b544917107a59d4153d4bf78e1b90),platform=Windows NT 6.2.9200 x86_64)\n",
     "output_type": "error",
     "traceback": [
      "\u001b[1;31m---------------------------------------------------------------------------\u001b[0m",
      "\u001b[1;31mNoSuchElementException\u001b[0m                    Traceback (most recent call last)",
      "\u001b[1;32m<ipython-input-225-e45bda1a8a53>\u001b[0m in \u001b[0;36m<module>\u001b[1;34m()\u001b[0m\n\u001b[0;32m      8\u001b[0m \u001b[1;33m\u001b[0m\u001b[0m\n\u001b[0;32m      9\u001b[0m     \u001b[1;32mfor\u001b[0m \u001b[0mi\u001b[0m \u001b[1;32min\u001b[0m \u001b[0mrange\u001b[0m\u001b[1;33m(\u001b[0m\u001b[1;36m1\u001b[0m\u001b[1;33m,\u001b[0m\u001b[1;36m6\u001b[0m\u001b[1;33m)\u001b[0m\u001b[1;33m:\u001b[0m\u001b[1;33m\u001b[0m\u001b[0m\n\u001b[1;32m---> 10\u001b[1;33m         \u001b[0mlink\u001b[0m \u001b[1;33m=\u001b[0m \u001b[0mdriver\u001b[0m\u001b[1;33m.\u001b[0m\u001b[0mfind_element_by_css_selector\u001b[0m\u001b[1;33m(\u001b[0m\u001b[1;34m'#contents > div.today-game > div > div.bx-viewport > ul > li:nth-child('\u001b[0m\u001b[1;33m+\u001b[0m\u001b[0mstr\u001b[0m\u001b[1;33m(\u001b[0m\u001b[0mi\u001b[0m\u001b[1;33m)\u001b[0m\u001b[1;33m+\u001b[0m\u001b[1;34m') > div.game-cont'\u001b[0m\u001b[1;33m)\u001b[0m\u001b[1;33m\u001b[0m\u001b[0m\n\u001b[0m\u001b[0;32m     11\u001b[0m         \u001b[0mlink\u001b[0m\u001b[1;33m.\u001b[0m\u001b[0mclick\u001b[0m\u001b[1;33m(\u001b[0m\u001b[1;33m)\u001b[0m \u001b[1;31m#5경기 중 가장 첫경기 클릭\u001b[0m\u001b[1;33m\u001b[0m\u001b[0m\n\u001b[0;32m     12\u001b[0m \u001b[1;33m\u001b[0m\u001b[0m\n",
      "\u001b[1;32mC:\\Miniconda3\\lib\\site-packages\\selenium\\webdriver\\remote\\webdriver.py\u001b[0m in \u001b[0;36mfind_element_by_css_selector\u001b[1;34m(self, css_selector)\u001b[0m\n\u001b[0;32m    596\u001b[0m             \u001b[0melement\u001b[0m \u001b[1;33m=\u001b[0m \u001b[0mdriver\u001b[0m\u001b[1;33m.\u001b[0m\u001b[0mfind_element_by_css_selector\u001b[0m\u001b[1;33m(\u001b[0m\u001b[1;34m'#foo'\u001b[0m\u001b[1;33m)\u001b[0m\u001b[1;33m\u001b[0m\u001b[0m\n\u001b[0;32m    597\u001b[0m         \"\"\"\n\u001b[1;32m--> 598\u001b[1;33m         \u001b[1;32mreturn\u001b[0m \u001b[0mself\u001b[0m\u001b[1;33m.\u001b[0m\u001b[0mfind_element\u001b[0m\u001b[1;33m(\u001b[0m\u001b[0mby\u001b[0m\u001b[1;33m=\u001b[0m\u001b[0mBy\u001b[0m\u001b[1;33m.\u001b[0m\u001b[0mCSS_SELECTOR\u001b[0m\u001b[1;33m,\u001b[0m \u001b[0mvalue\u001b[0m\u001b[1;33m=\u001b[0m\u001b[0mcss_selector\u001b[0m\u001b[1;33m)\u001b[0m\u001b[1;33m\u001b[0m\u001b[0m\n\u001b[0m\u001b[0;32m    599\u001b[0m \u001b[1;33m\u001b[0m\u001b[0m\n\u001b[0;32m    600\u001b[0m     \u001b[1;32mdef\u001b[0m \u001b[0mfind_elements_by_css_selector\u001b[0m\u001b[1;33m(\u001b[0m\u001b[0mself\u001b[0m\u001b[1;33m,\u001b[0m \u001b[0mcss_selector\u001b[0m\u001b[1;33m)\u001b[0m\u001b[1;33m:\u001b[0m\u001b[1;33m\u001b[0m\u001b[0m\n",
      "\u001b[1;32mC:\\Miniconda3\\lib\\site-packages\\selenium\\webdriver\\remote\\webdriver.py\u001b[0m in \u001b[0;36mfind_element\u001b[1;34m(self, by, value)\u001b[0m\n\u001b[0;32m    976\u001b[0m         return self.execute(Command.FIND_ELEMENT, {\n\u001b[0;32m    977\u001b[0m             \u001b[1;34m'using'\u001b[0m\u001b[1;33m:\u001b[0m \u001b[0mby\u001b[0m\u001b[1;33m,\u001b[0m\u001b[1;33m\u001b[0m\u001b[0m\n\u001b[1;32m--> 978\u001b[1;33m             'value': value})['value']\n\u001b[0m\u001b[0;32m    979\u001b[0m \u001b[1;33m\u001b[0m\u001b[0m\n\u001b[0;32m    980\u001b[0m     \u001b[1;32mdef\u001b[0m \u001b[0mfind_elements\u001b[0m\u001b[1;33m(\u001b[0m\u001b[0mself\u001b[0m\u001b[1;33m,\u001b[0m \u001b[0mby\u001b[0m\u001b[1;33m=\u001b[0m\u001b[0mBy\u001b[0m\u001b[1;33m.\u001b[0m\u001b[0mID\u001b[0m\u001b[1;33m,\u001b[0m \u001b[0mvalue\u001b[0m\u001b[1;33m=\u001b[0m\u001b[1;32mNone\u001b[0m\u001b[1;33m)\u001b[0m\u001b[1;33m:\u001b[0m\u001b[1;33m\u001b[0m\u001b[0m\n",
      "\u001b[1;32mC:\\Miniconda3\\lib\\site-packages\\selenium\\webdriver\\remote\\webdriver.py\u001b[0m in \u001b[0;36mexecute\u001b[1;34m(self, driver_command, params)\u001b[0m\n\u001b[0;32m    319\u001b[0m         \u001b[0mresponse\u001b[0m \u001b[1;33m=\u001b[0m \u001b[0mself\u001b[0m\u001b[1;33m.\u001b[0m\u001b[0mcommand_executor\u001b[0m\u001b[1;33m.\u001b[0m\u001b[0mexecute\u001b[0m\u001b[1;33m(\u001b[0m\u001b[0mdriver_command\u001b[0m\u001b[1;33m,\u001b[0m \u001b[0mparams\u001b[0m\u001b[1;33m)\u001b[0m\u001b[1;33m\u001b[0m\u001b[0m\n\u001b[0;32m    320\u001b[0m         \u001b[1;32mif\u001b[0m \u001b[0mresponse\u001b[0m\u001b[1;33m:\u001b[0m\u001b[1;33m\u001b[0m\u001b[0m\n\u001b[1;32m--> 321\u001b[1;33m             \u001b[0mself\u001b[0m\u001b[1;33m.\u001b[0m\u001b[0merror_handler\u001b[0m\u001b[1;33m.\u001b[0m\u001b[0mcheck_response\u001b[0m\u001b[1;33m(\u001b[0m\u001b[0mresponse\u001b[0m\u001b[1;33m)\u001b[0m\u001b[1;33m\u001b[0m\u001b[0m\n\u001b[0m\u001b[0;32m    322\u001b[0m             response['value'] = self._unwrap_value(\n\u001b[0;32m    323\u001b[0m                 response.get('value', None))\n",
      "\u001b[1;32mC:\\Miniconda3\\lib\\site-packages\\selenium\\webdriver\\remote\\errorhandler.py\u001b[0m in \u001b[0;36mcheck_response\u001b[1;34m(self, response)\u001b[0m\n\u001b[0;32m    240\u001b[0m                 \u001b[0malert_text\u001b[0m \u001b[1;33m=\u001b[0m \u001b[0mvalue\u001b[0m\u001b[1;33m[\u001b[0m\u001b[1;34m'alert'\u001b[0m\u001b[1;33m]\u001b[0m\u001b[1;33m.\u001b[0m\u001b[0mget\u001b[0m\u001b[1;33m(\u001b[0m\u001b[1;34m'text'\u001b[0m\u001b[1;33m)\u001b[0m\u001b[1;33m\u001b[0m\u001b[0m\n\u001b[0;32m    241\u001b[0m             \u001b[1;32mraise\u001b[0m \u001b[0mexception_class\u001b[0m\u001b[1;33m(\u001b[0m\u001b[0mmessage\u001b[0m\u001b[1;33m,\u001b[0m \u001b[0mscreen\u001b[0m\u001b[1;33m,\u001b[0m \u001b[0mstacktrace\u001b[0m\u001b[1;33m,\u001b[0m \u001b[0malert_text\u001b[0m\u001b[1;33m)\u001b[0m\u001b[1;33m\u001b[0m\u001b[0m\n\u001b[1;32m--> 242\u001b[1;33m         \u001b[1;32mraise\u001b[0m \u001b[0mexception_class\u001b[0m\u001b[1;33m(\u001b[0m\u001b[0mmessage\u001b[0m\u001b[1;33m,\u001b[0m \u001b[0mscreen\u001b[0m\u001b[1;33m,\u001b[0m \u001b[0mstacktrace\u001b[0m\u001b[1;33m)\u001b[0m\u001b[1;33m\u001b[0m\u001b[0m\n\u001b[0m\u001b[0;32m    243\u001b[0m \u001b[1;33m\u001b[0m\u001b[0m\n\u001b[0;32m    244\u001b[0m     \u001b[1;32mdef\u001b[0m \u001b[0m_value_or_default\u001b[0m\u001b[1;33m(\u001b[0m\u001b[0mself\u001b[0m\u001b[1;33m,\u001b[0m \u001b[0mobj\u001b[0m\u001b[1;33m,\u001b[0m \u001b[0mkey\u001b[0m\u001b[1;33m,\u001b[0m \u001b[0mdefault\u001b[0m\u001b[1;33m)\u001b[0m\u001b[1;33m:\u001b[0m\u001b[1;33m\u001b[0m\u001b[0m\n",
      "\u001b[1;31mNoSuchElementException\u001b[0m: Message: no such element: Unable to locate element: {\"method\":\"css selector\",\"selector\":\"#contents > div.today-game > div > div.bx-viewport > ul > li:nth-child(4) > div.game-cont\"}\n  (Session info: chrome=74.0.3729.169)\n  (Driver info: chromedriver=2.44.609538 (b655c5a60b0b544917107a59d4153d4bf78e1b90),platform=Windows NT 6.2.9200 x86_64)\n"
     ]
    }
   ],
   "source": [
    "kbo_18_7 = []\n",
    "\n",
    "for i in range(204):\n",
    "    link = driver.find_element_by_css_selector('#lnkNext > img')\n",
    "    link.click()\n",
    "\n",
    "    kbo = []\n",
    "\n",
    "    for i in range(1,6):\n",
    "        link = driver.find_element_by_css_selector('#contents > div.today-game > div > div.bx-viewport > ul > li:nth-child('+str(i)+') > div.game-cont')\n",
    "        link.click() #5경기 중 가장 첫경기 클릭\n",
    "\n",
    "        link = driver.find_element_by_css_selector('#lblGameDate')\n",
    "        today = link.text #날짜\n",
    "\n",
    "        link = driver.find_element_by_css_selector('#tabDepth2 > li:nth-child(2) > a')\n",
    "        link.click() #리뷰 클릭\n",
    "\n",
    "        time.sleep(1)\n",
    "\n",
    "        link = driver.find_element_by_css_selector('#gameCenterContents > div:nth-child(2)')\n",
    "        info = link.text\n",
    "\n",
    "        link = driver.find_element_by_css_selector('#gameCenterContents > div:nth-child(6)')\n",
    "        away_pitchers = link.text\n",
    "\n",
    "        link = driver.find_element_by_css_selector('#gameCenterContents > div:nth-child(7)')\n",
    "        home_pitchers = link.text\n",
    "\n",
    "\n",
    "        kbo.append([today, info, away_pitchers, home_pitchers])\n",
    "        \n",
    "    for j in unique(kbo):\n",
    "         kbo_18_7.append(j)\n",
    "            "
   ]
  },
  {
   "cell_type": "code",
   "execution_count": 262,
   "metadata": {},
   "outputs": [],
   "source": [
    "#for i in range(204):\n",
    "link = driver.find_element_by_css_selector('#lnkNext > img')\n",
    "link.click()"
   ]
  },
  {
   "cell_type": "code",
   "execution_count": null,
   "metadata": {},
   "outputs": [],
   "source": [
    "#contents > div.today-game > div > div.bx-viewport > ul > li:nth-child(2) > div.game-cont\n",
    "#contents > div.today-game > div > div.bx-viewport > ul > li.list-review.on > div.game-cont\n",
    "#contents > div.today-game > div > div.bx-viewport > ul > li:nth-child(3) > div.game-cont\n",
    "#contents > div.today-game > div > div.bx-viewport > ul > li:nth-child(5) > div.game-cont\n",
    "#contents > div.today-game > div > div.bx-viewport > ul > li.list-review.on > div.game-cont"
   ]
  },
  {
   "cell_type": "code",
   "execution_count": 263,
   "metadata": {},
   "outputs": [],
   "source": [
    "#10월6일 더블헤더경기 \n",
    "#10월10일 더블헤더경기\n",
    "kbo_18_oct14 = []\n",
    "\n",
    "\n",
    "\n",
    "kbo = []\n",
    "\n",
    "for i in range(1,2):\n",
    "    link = driver.find_element_by_css_selector('#contents > div.today-game > div > div.bx-viewport > ul > li:nth-child('+str(i)+') > div.game-cont')\n",
    "    link.click() #5경기 중 가장 첫경기 클릭\n",
    "\n",
    "    link = driver.find_element_by_css_selector('#lblGameDate')\n",
    "    today = link.text #날짜\n",
    "\n",
    "    link = driver.find_element_by_css_selector('#tabDepth2 > li:nth-child(2) > a')\n",
    "    link.click() #리뷰 클릭\n",
    "\n",
    "    time.sleep(1)\n",
    "\n",
    "    link = driver.find_element_by_css_selector('#gameCenterContents > div:nth-child(2)')\n",
    "    info = link.text\n",
    "\n",
    "    link = driver.find_element_by_css_selector('#gameCenterContents > div:nth-child(6)')\n",
    "    away_pitchers = link.text\n",
    "\n",
    "    link = driver.find_element_by_css_selector('#gameCenterContents > div:nth-child(7)')\n",
    "    home_pitchers = link.text\n",
    "\n",
    "\n",
    "    kbo.append([today, info, away_pitchers, home_pitchers])\n",
    "\n",
    "for j in unique(kbo):\n",
    "     kbo_18_oct14.append(j)\n",
    "            "
   ]
  },
  {
   "cell_type": "code",
   "execution_count": 253,
   "metadata": {},
   "outputs": [],
   "source": [
    "#10월6일 더블헤더경기 \n",
    "#10월10일 더블헤더경기\n",
    "kbo_18_oct6pre = []\n",
    "\n",
    "\n",
    "\n",
    "kbo = []\n",
    "\n",
    "for i in range(1,6):\n",
    "    link = driver.find_element_by_css_selector('#contents > div.today-game > div > div.bx-viewport > ul > li:nth-child('+str(i)+') > div.game-cont')\n",
    "    link.click() #5경기 중 가장 첫경기 클릭\n",
    "\n",
    "    link = driver.find_element_by_css_selector('#lblGameDate')\n",
    "    today = link.text #날짜\n",
    "\n",
    "    link = driver.find_element_by_css_selector('#tabDepth2 > li:nth-child(2) > a')\n",
    "    link.click() #리뷰 클릭\n",
    "\n",
    "    time.sleep(1)\n",
    "\n",
    "    link = driver.find_element_by_css_selector('#gameCenterContents > div:nth-child(2)')\n",
    "    info = link.text\n",
    "\n",
    "    link = driver.find_element_by_css_selector('#gameCenterContents > div:nth-child(6)')\n",
    "    away_pitchers = link.text\n",
    "\n",
    "    link = driver.find_element_by_css_selector('#gameCenterContents > div:nth-child(7)')\n",
    "    home_pitchers = link.text\n",
    "\n",
    "\n",
    "    kbo.append([today, info, away_pitchers, home_pitchers])\n",
    "\n",
    "for j in unique(kbo):\n",
    "     kbo_18_oct6pre.append(j)\n",
    "            "
   ]
  },
  {
   "cell_type": "code",
   "execution_count": 257,
   "metadata": {},
   "outputs": [],
   "source": [
    "kbo_18_oct6 = unique(kbo_18_oct6pre+kbo_18_oct6)"
   ]
  },
  {
   "cell_type": "code",
   "execution_count": 265,
   "metadata": {},
   "outputs": [],
   "source": [
    "kbo_18_oct = kbo_18_oct2 + kbo_18_oct3 + kbo_18_oct4 + kbo_18_oct6 + kbo_18_oct7 + kbo_18_oct9 + kbo_18_oct10 + kbo_18_oct11 + kbo_18_oct12 + kbo_18_oct13 + kbo_18_oct14"
   ]
  },
  {
   "cell_type": "code",
   "execution_count": 266,
   "metadata": {},
   "outputs": [],
   "source": [
    "kbo_18 = kbo_18 + kbo_18_2 + kbo_18_3 + kbo_18_4 + kbo_18_5 + kbo_18_6 + kbo_18_7 + kbo_18_oct"
   ]
  },
  {
   "cell_type": "code",
   "execution_count": 268,
   "metadata": {},
   "outputs": [
    {
     "data": {
      "text/plain": [
       "720"
      ]
     },
     "execution_count": 268,
     "metadata": {},
     "output_type": "execute_result"
    }
   ],
   "source": [
    "len(kbo_18)"
   ]
  },
  {
   "cell_type": "code",
   "execution_count": 269,
   "metadata": {},
   "outputs": [],
   "source": [
    "df_kbo_18 = pd.DataFrame(kbo_18)"
   ]
  },
  {
   "cell_type": "code",
   "execution_count": 270,
   "metadata": {},
   "outputs": [
    {
     "data": {
      "text/html": [
       "<div>\n",
       "<style scoped>\n",
       "    .dataframe tbody tr th:only-of-type {\n",
       "        vertical-align: middle;\n",
       "    }\n",
       "\n",
       "    .dataframe tbody tr th {\n",
       "        vertical-align: top;\n",
       "    }\n",
       "\n",
       "    .dataframe thead th {\n",
       "        text-align: right;\n",
       "    }\n",
       "</style>\n",
       "<table border=\"1\" class=\"dataframe\">\n",
       "  <thead>\n",
       "    <tr style=\"text-align: right;\">\n",
       "      <th></th>\n",
       "      <th>0</th>\n",
       "      <th>1</th>\n",
       "      <th>2</th>\n",
       "      <th>3</th>\n",
       "    </tr>\n",
       "  </thead>\n",
       "  <tbody>\n",
       "    <tr>\n",
       "      <th>0</th>\n",
       "      <td>2018.03.24(토)</td>\n",
       "      <td>구장 : 마산 관중 : 11,000 개시 : 14:01 종료 : 16:48 경기시간...</td>\n",
       "      <td>LG 트윈스 투수 기록\\n선수명 등판 결과 승 패 세 이닝 타자 투구수 타수 피안타...</td>\n",
       "      <td>NC 다이노스 투수 기록\\n선수명 등판 결과 승 패 세 이닝 타자 투구수 타수 피안...</td>\n",
       "    </tr>\n",
       "    <tr>\n",
       "      <th>1</th>\n",
       "      <td>2018.03.24(토)</td>\n",
       "      <td>구장 : 잠실 관중 : 25,000 개시 : 14:03 종료 : 17:09 경기시간...</td>\n",
       "      <td>삼성 라이온즈 투수 기록\\n선수명 등판 결과 승 패 세 이닝 타자 투구수 타수 피안...</td>\n",
       "      <td>두산 베어스 투수 기록\\n선수명 등판 결과 승 패 세 이닝 타자 투구수 타수 피안타...</td>\n",
       "    </tr>\n",
       "    <tr>\n",
       "      <th>2</th>\n",
       "      <td>2018.03.24(토)</td>\n",
       "      <td>구장 : 문학 관중 : 25,000 개시 : 13:59 종료 : 17:48 경기시간...</td>\n",
       "      <td>롯데 자이언츠 투수 기록\\n선수명 등판 결과 승 패 세 이닝 타자 투구수 타수 피안...</td>\n",
       "      <td>SK 와이번스 투수 기록\\n선수명 등판 결과 승 패 세 이닝 타자 투구수 타수 피안...</td>\n",
       "    </tr>\n",
       "    <tr>\n",
       "      <th>3</th>\n",
       "      <td>2018.03.24(토)</td>\n",
       "      <td>구장 : 광주 관중 : 20,500 개시 : 14:02 종료 : 17:21 경기시간...</td>\n",
       "      <td>KT 위즈 투수 기록\\n선수명 등판 결과 승 패 세 이닝 타자 투구수 타수 피안타 ...</td>\n",
       "      <td>KIA 타이거즈 투수 기록\\n선수명 등판 결과 승 패 세 이닝 타자 투구수 타수 피...</td>\n",
       "    </tr>\n",
       "    <tr>\n",
       "      <th>4</th>\n",
       "      <td>2018.03.24(토)</td>\n",
       "      <td>구장 : 고척 관중 : 15,055 개시 : 14:01 종료 : 17:35 경기시간...</td>\n",
       "      <td>한화 이글스 투수 기록\\n선수명 등판 결과 승 패 세 이닝 타자 투구수 타수 피안타...</td>\n",
       "      <td>넥센 히어로즈 투수 기록\\n선수명 등판 결과 승 패 세 이닝 타자 투구수 타수 피안...</td>\n",
       "    </tr>\n",
       "    <tr>\n",
       "      <th>5</th>\n",
       "      <td>2018.03.25(일)</td>\n",
       "      <td>구장 : 마산 관중 : 11,000 개시 : 14:01 종료 : 17:23 경기시간...</td>\n",
       "      <td>LG 트윈스 투수 기록\\n선수명 등판 결과 승 패 세 이닝 타자 투구수 타수 피안타...</td>\n",
       "      <td>NC 다이노스 투수 기록\\n선수명 등판 결과 승 패 세 이닝 타자 투구수 타수 피안...</td>\n",
       "    </tr>\n",
       "    <tr>\n",
       "      <th>6</th>\n",
       "      <td>2018.03.25(일)</td>\n",
       "      <td>구장 : 잠실 관중 : 20,240 개시 : 14:00 종료 : 16:48 경기시간...</td>\n",
       "      <td>삼성 라이온즈 투수 기록\\n선수명 등판 결과 승 패 세 이닝 타자 투구수 타수 피안...</td>\n",
       "      <td>두산 베어스 투수 기록\\n선수명 등판 결과 승 패 세 이닝 타자 투구수 타수 피안타...</td>\n",
       "    </tr>\n",
       "    <tr>\n",
       "      <th>7</th>\n",
       "      <td>2018.03.25(일)</td>\n",
       "      <td>구장 : 문학 관중 : 22,765 개시 : 13:58 종료 : 16:51 경기시간...</td>\n",
       "      <td>롯데 자이언츠 투수 기록\\n선수명 등판 결과 승 패 세 이닝 타자 투구수 타수 피안...</td>\n",
       "      <td>SK 와이번스 투수 기록\\n선수명 등판 결과 승 패 세 이닝 타자 투구수 타수 피안...</td>\n",
       "    </tr>\n",
       "    <tr>\n",
       "      <th>8</th>\n",
       "      <td>2018.03.25(일)</td>\n",
       "      <td>구장 : 광주 관중 : 20,500 개시 : 14:01 종료 : 16:47 경기시간...</td>\n",
       "      <td>KT 위즈 투수 기록\\n선수명 등판 결과 승 패 세 이닝 타자 투구수 타수 피안타 ...</td>\n",
       "      <td>KIA 타이거즈 투수 기록\\n선수명 등판 결과 승 패 세 이닝 타자 투구수 타수 피...</td>\n",
       "    </tr>\n",
       "    <tr>\n",
       "      <th>9</th>\n",
       "      <td>2018.03.25(일)</td>\n",
       "      <td>구장 : 고척 관중 : 13,010 개시 : 14:00 종료 : 17:12 경기시간...</td>\n",
       "      <td>한화 이글스 투수 기록\\n선수명 등판 결과 승 패 세 이닝 타자 투구수 타수 피안타...</td>\n",
       "      <td>넥센 히어로즈 투수 기록\\n선수명 등판 결과 승 패 세 이닝 타자 투구수 타수 피안...</td>\n",
       "    </tr>\n",
       "    <tr>\n",
       "      <th>10</th>\n",
       "      <td>2018.03.27(화)</td>\n",
       "      <td>구장 : 마산 관중 : 5,037 개시 : 18:30 종료 : 21:59 경기시간 ...</td>\n",
       "      <td>한화 이글스 투수 기록\\n선수명 등판 결과 승 패 세 이닝 타자 투구수 타수 피안타...</td>\n",
       "      <td>NC 다이노스 투수 기록\\n선수명 등판 결과 승 패 세 이닝 타자 투구수 타수 피안...</td>\n",
       "    </tr>\n",
       "    <tr>\n",
       "      <th>11</th>\n",
       "      <td>2018.03.27(화)</td>\n",
       "      <td>구장 : 잠실 관중 : 10,391 개시 : 18:30 종료 : 21:38 경기시간...</td>\n",
       "      <td>롯데 자이언츠 투수 기록\\n선수명 등판 결과 승 패 세 이닝 타자 투구수 타수 피안...</td>\n",
       "      <td>두산 베어스 투수 기록\\n선수명 등판 결과 승 패 세 이닝 타자 투구수 타수 피안타...</td>\n",
       "    </tr>\n",
       "    <tr>\n",
       "      <th>12</th>\n",
       "      <td>2018.03.27(화)</td>\n",
       "      <td>구장 : 문학 관중 : 6,067 개시 : 18:30 종료 : 21:35 경기시간 ...</td>\n",
       "      <td>KT 위즈 투수 기록\\n선수명 등판 결과 승 패 세 이닝 타자 투구수 타수 피안타 ...</td>\n",
       "      <td>SK 와이번스 투수 기록\\n선수명 등판 결과 승 패 세 이닝 타자 투구수 타수 피안...</td>\n",
       "    </tr>\n",
       "    <tr>\n",
       "      <th>13</th>\n",
       "      <td>2018.03.27(화)</td>\n",
       "      <td>구장 : 광주 관중 : 6,892 개시 : 18:29 종료 : 21:30 경기시간 ...</td>\n",
       "      <td>삼성 라이온즈 투수 기록\\n선수명 등판 결과 승 패 세 이닝 타자 투구수 타수 피안...</td>\n",
       "      <td>KIA 타이거즈 투수 기록\\n선수명 등판 결과 승 패 세 이닝 타자 투구수 타수 피...</td>\n",
       "    </tr>\n",
       "    <tr>\n",
       "      <th>14</th>\n",
       "      <td>2018.03.27(화)</td>\n",
       "      <td>구장 : 고척 관중 : 4,401 개시 : 18:30 종료 : 22:16 경기시간 ...</td>\n",
       "      <td>LG 트윈스 투수 기록\\n선수명 등판 결과 승 패 세 이닝 타자 투구수 타수 피안타...</td>\n",
       "      <td>넥센 히어로즈 투수 기록\\n선수명 등판 결과 승 패 세 이닝 타자 투구수 타수 피안...</td>\n",
       "    </tr>\n",
       "    <tr>\n",
       "      <th>15</th>\n",
       "      <td>2018.03.28(수)</td>\n",
       "      <td>구장 : 마산 관중 : 5,003 개시 : 18:31 종료 : 21:59 경기시간 ...</td>\n",
       "      <td>한화 이글스 투수 기록\\n선수명 등판 결과 승 패 세 이닝 타자 투구수 타수 피안타...</td>\n",
       "      <td>NC 다이노스 투수 기록\\n선수명 등판 결과 승 패 세 이닝 타자 투구수 타수 피안...</td>\n",
       "    </tr>\n",
       "    <tr>\n",
       "      <th>16</th>\n",
       "      <td>2018.03.28(수)</td>\n",
       "      <td>구장 : 잠실 관중 : 10,382 개시 : 18:30 종료 : 21:54 경기시간...</td>\n",
       "      <td>롯데 자이언츠 투수 기록\\n선수명 등판 결과 승 패 세 이닝 타자 투구수 타수 피안...</td>\n",
       "      <td>두산 베어스 투수 기록\\n선수명 등판 결과 승 패 세 이닝 타자 투구수 타수 피안타...</td>\n",
       "    </tr>\n",
       "    <tr>\n",
       "      <th>17</th>\n",
       "      <td>2018.03.28(수)</td>\n",
       "      <td>구장 : 문학 관중 : 5,701 개시 : 18:30 종료 : 21:30 경기시간 ...</td>\n",
       "      <td>KT 위즈 투수 기록\\n선수명 등판 결과 승 패 세 이닝 타자 투구수 타수 피안타 ...</td>\n",
       "      <td>SK 와이번스 투수 기록\\n선수명 등판 결과 승 패 세 이닝 타자 투구수 타수 피안...</td>\n",
       "    </tr>\n",
       "    <tr>\n",
       "      <th>18</th>\n",
       "      <td>2018.03.28(수)</td>\n",
       "      <td>구장 : 광주 관중 : 8,347 개시 : 18:29 종료 : 21:28 경기시간 ...</td>\n",
       "      <td>삼성 라이온즈 투수 기록\\n선수명 등판 결과 승 패 세 이닝 타자 투구수 타수 피안...</td>\n",
       "      <td>KIA 타이거즈 투수 기록\\n선수명 등판 결과 승 패 세 이닝 타자 투구수 타수 피...</td>\n",
       "    </tr>\n",
       "    <tr>\n",
       "      <th>19</th>\n",
       "      <td>2018.03.28(수)</td>\n",
       "      <td>구장 : 고척 관중 : 4,437 개시 : 18:30 종료 : 21:39 경기시간 ...</td>\n",
       "      <td>LG 트윈스 투수 기록\\n선수명 등판 결과 승 패 세 이닝 타자 투구수 타수 피안타...</td>\n",
       "      <td>넥센 히어로즈 투수 기록\\n선수명 등판 결과 승 패 세 이닝 타자 투구수 타수 피안...</td>\n",
       "    </tr>\n",
       "    <tr>\n",
       "      <th>20</th>\n",
       "      <td>2018.03.29(목)</td>\n",
       "      <td>구장 : 마산 관중 : 4,872 개시 : 18:31 종료 : 22:03 경기시간 ...</td>\n",
       "      <td>한화 이글스 투수 기록\\n선수명 등판 결과 승 패 세 이닝 타자 투구수 타수 피안타...</td>\n",
       "      <td>NC 다이노스 투수 기록\\n선수명 등판 결과 승 패 세 이닝 타자 투구수 타수 피안...</td>\n",
       "    </tr>\n",
       "    <tr>\n",
       "      <th>21</th>\n",
       "      <td>2018.03.29(목)</td>\n",
       "      <td>구장 : 잠실 관중 : 10,956 개시 : 18:31 종료 : 21:27 경기시간...</td>\n",
       "      <td>롯데 자이언츠 투수 기록\\n선수명 등판 결과 승 패 세 이닝 타자 투구수 타수 피안...</td>\n",
       "      <td>두산 베어스 투수 기록\\n선수명 등판 결과 승 패 세 이닝 타자 투구수 타수 피안타...</td>\n",
       "    </tr>\n",
       "    <tr>\n",
       "      <th>22</th>\n",
       "      <td>2018.03.29(목)</td>\n",
       "      <td>구장 : 문학 관중 : 5,936 개시 : 18:30 종료 : 21:15 경기시간 ...</td>\n",
       "      <td>KT 위즈 투수 기록\\n선수명 등판 결과 승 패 세 이닝 타자 투구수 타수 피안타 ...</td>\n",
       "      <td>SK 와이번스 투수 기록\\n선수명 등판 결과 승 패 세 이닝 타자 투구수 타수 피안...</td>\n",
       "    </tr>\n",
       "    <tr>\n",
       "      <th>23</th>\n",
       "      <td>2018.03.29(목)</td>\n",
       "      <td>구장 : 광주 관중 : 7,839 개시 : 18:29 종료 : 21:56 경기시간 ...</td>\n",
       "      <td>삼성 라이온즈 투수 기록\\n선수명 등판 결과 승 패 세 이닝 타자 투구수 타수 피안...</td>\n",
       "      <td>KIA 타이거즈 투수 기록\\n선수명 등판 결과 승 패 세 이닝 타자 투구수 타수 피...</td>\n",
       "    </tr>\n",
       "    <tr>\n",
       "      <th>24</th>\n",
       "      <td>2018.03.29(목)</td>\n",
       "      <td>구장 : 고척 관중 : 4,219 개시 : 18:30 종료 : 21:38 경기시간 ...</td>\n",
       "      <td>LG 트윈스 투수 기록\\n선수명 등판 결과 승 패 세 이닝 타자 투구수 타수 피안타...</td>\n",
       "      <td>넥센 히어로즈 투수 기록\\n선수명 등판 결과 승 패 세 이닝 타자 투구수 타수 피안...</td>\n",
       "    </tr>\n",
       "    <tr>\n",
       "      <th>25</th>\n",
       "      <td>2018.03.30(금)</td>\n",
       "      <td>구장 : 잠실 관중 : 22,667 개시 : 18:30 종료 : 22:16 경기시간...</td>\n",
       "      <td>KIA 타이거즈 투수 기록\\n선수명 등판 결과 승 패 세 이닝 타자 투구수 타수 피...</td>\n",
       "      <td>LG 트윈스 투수 기록\\n선수명 등판 결과 승 패 세 이닝 타자 투구수 타수 피안타...</td>\n",
       "    </tr>\n",
       "    <tr>\n",
       "      <th>26</th>\n",
       "      <td>2018.03.30(금)</td>\n",
       "      <td>구장 : 사직 관중 : 21,124 개시 : 18:31 종료 : 21:54 경기시간...</td>\n",
       "      <td>NC 다이노스 투수 기록\\n선수명 등판 결과 승 패 세 이닝 타자 투구수 타수 피안...</td>\n",
       "      <td>롯데 자이언츠 투수 기록\\n선수명 등판 결과 승 패 세 이닝 타자 투구수 타수 피안...</td>\n",
       "    </tr>\n",
       "    <tr>\n",
       "      <th>27</th>\n",
       "      <td>2018.03.30(금)</td>\n",
       "      <td>구장 : 대구 관중 : 11,683 개시 : 18:32 종료 : 23:24 경기시간...</td>\n",
       "      <td>넥센 히어로즈 투수 기록\\n선수명 등판 결과 승 패 세 이닝 타자 투구수 타수 피안...</td>\n",
       "      <td>삼성 라이온즈 투수 기록\\n선수명 등판 결과 승 패 세 이닝 타자 투구수 타수 피안...</td>\n",
       "    </tr>\n",
       "    <tr>\n",
       "      <th>28</th>\n",
       "      <td>2018.03.30(금)</td>\n",
       "      <td>구장 : 대전 관중 : 10,354 개시 : 18:29 종료 : 21:41 경기시간...</td>\n",
       "      <td>SK 와이번스 투수 기록\\n선수명 등판 결과 승 패 세 이닝 타자 투구수 타수 피안...</td>\n",
       "      <td>한화 이글스 투수 기록\\n선수명 등판 결과 승 패 세 이닝 타자 투구수 타수 피안타...</td>\n",
       "    </tr>\n",
       "    <tr>\n",
       "      <th>29</th>\n",
       "      <td>2018.03.30(금)</td>\n",
       "      <td>구장 : 수원 관중 : 13,562 개시 : 19:00 종료 : 22:13 경기시간...</td>\n",
       "      <td>두산 베어스 투수 기록\\n선수명 등판 결과 승 패 세 이닝 타자 투구수 타수 피안타...</td>\n",
       "      <td>KT 위즈 투수 기록\\n선수명 등판 결과 승 패 세 이닝 타자 투구수 타수 피안타 ...</td>\n",
       "    </tr>\n",
       "    <tr>\n",
       "      <th>...</th>\n",
       "      <td>...</td>\n",
       "      <td>...</td>\n",
       "      <td>...</td>\n",
       "      <td>...</td>\n",
       "    </tr>\n",
       "    <tr>\n",
       "      <th>690</th>\n",
       "      <td>2018.10.03(수)</td>\n",
       "      <td>구장 : 대구 관중 : 19,432 개시 : 14:00 종료 : 17:37 경기시간...</td>\n",
       "      <td>KIA 타이거즈 투수 기록\\n선수명 등판 결과 승 패 세 이닝 타자 투구수 타수 피...</td>\n",
       "      <td>삼성 라이온즈 투수 기록\\n선수명 등판 결과 승 패 세 이닝 타자 투구수 타수 피안...</td>\n",
       "    </tr>\n",
       "    <tr>\n",
       "      <th>691</th>\n",
       "      <td>2018.10.03(수)</td>\n",
       "      <td>구장 : 대전 관중 : 13,000 개시 : 13:59 종료 : 17:35 경기시간...</td>\n",
       "      <td>롯데 자이언츠 투수 기록\\n선수명 등판 결과 승 패 세 이닝 타자 투구수 타수 피안...</td>\n",
       "      <td>한화 이글스 투수 기록\\n선수명 등판 결과 승 패 세 이닝 타자 투구수 타수 피안타...</td>\n",
       "    </tr>\n",
       "    <tr>\n",
       "      <th>692</th>\n",
       "      <td>2018.10.04(목)</td>\n",
       "      <td>구장 : 문학 관중 : 13,556 개시 : 18:30 종료 : 22:01 경기시간...</td>\n",
       "      <td>KIA 타이거즈 투수 기록\\n선수명 등판 결과 승 패 세 이닝 타자 투구수 타수 피...</td>\n",
       "      <td>SK 와이번스 투수 기록\\n선수명 등판 결과 승 패 세 이닝 타자 투구수 타수 피안...</td>\n",
       "    </tr>\n",
       "    <tr>\n",
       "      <th>693</th>\n",
       "      <td>2018.10.04(목)</td>\n",
       "      <td>구장 : 대전 관중 : 9,555 개시 : 18:29 종료 : 21:47 경기시간 ...</td>\n",
       "      <td>롯데 자이언츠 투수 기록\\n선수명 등판 결과 승 패 세 이닝 타자 투구수 타수 피안...</td>\n",
       "      <td>한화 이글스 투수 기록\\n선수명 등판 결과 승 패 세 이닝 타자 투구수 타수 피안타...</td>\n",
       "    </tr>\n",
       "    <tr>\n",
       "      <th>694</th>\n",
       "      <td>2018.10.06(토)</td>\n",
       "      <td>구장 : 마산 관중 : 5,297 개시 : 16:59 종료 : 20:15 경기시간 ...</td>\n",
       "      <td>넥센 히어로즈 투수 기록\\n선수명 등판 결과 승 패 세 이닝 타자 투구수 타수 피안...</td>\n",
       "      <td>NC 다이노스 투수 기록\\n선수명 등판 결과 승 패 세 이닝 타자 투구수 타수 피안...</td>\n",
       "    </tr>\n",
       "    <tr>\n",
       "      <th>695</th>\n",
       "      <td>2018.10.06(토)</td>\n",
       "      <td>구장 : 잠실 관중 : 19,891 개시 : 17:00 종료 : 19:54 경기시간...</td>\n",
       "      <td>LG 트윈스 투수 기록\\n선수명 등판 결과 승 패 세 이닝 타자 투구수 타수 피안타...</td>\n",
       "      <td>두산 베어스 투수 기록\\n선수명 등판 결과 승 패 세 이닝 타자 투구수 타수 피안타...</td>\n",
       "    </tr>\n",
       "    <tr>\n",
       "      <th>696</th>\n",
       "      <td>2018.10.06(토)</td>\n",
       "      <td>구장 : 사직 관중 : 9,449 개시 : 16:59 종료 : 20:08 경기시간 ...</td>\n",
       "      <td>한화 이글스 투수 기록\\n선수명 등판 결과 승 패 세 이닝 타자 투구수 타수 피안타...</td>\n",
       "      <td>롯데 자이언츠 투수 기록\\n선수명 등판 결과 승 패 세 이닝 타자 투구수 타수 피안...</td>\n",
       "    </tr>\n",
       "    <tr>\n",
       "      <th>697</th>\n",
       "      <td>2018.10.06(토)</td>\n",
       "      <td>구장 : 수원 관중 : 8,291 개시 : 16:59 종료 : 20:00 경기시간 ...</td>\n",
       "      <td>삼성 라이온즈 투수 기록\\n선수명 등판 결과 승 패 세 이닝 타자 투구수 타수 피안...</td>\n",
       "      <td>KT 위즈 투수 기록\\n선수명 등판 결과 승 패 세 이닝 타자 투구수 타수 피안타 ...</td>\n",
       "    </tr>\n",
       "    <tr>\n",
       "      <th>698</th>\n",
       "      <td>2018.10.06(토)</td>\n",
       "      <td>구장 : 문학 관중 : 9,241 개시 : 15:00 종료 : 18:04 경기시간 ...</td>\n",
       "      <td>KIA 타이거즈 투수 기록\\n선수명 등판 결과 승 패 세 이닝 타자 투구수 타수 피...</td>\n",
       "      <td>SK 와이번스 투수 기록\\n선수명 등판 결과 승 패 세 이닝 타자 투구수 타수 피안...</td>\n",
       "    </tr>\n",
       "    <tr>\n",
       "      <th>699</th>\n",
       "      <td>2018.10.06(토)</td>\n",
       "      <td>구장 : 문학 관중 : 22,002 개시 : 18:45 종료 : 21:54 경기시간...</td>\n",
       "      <td>KIA 타이거즈 투수 기록\\n선수명 등판 결과 승 패 세 이닝 타자 투구수 타수 피...</td>\n",
       "      <td>SK 와이번스 투수 기록\\n선수명 등판 결과 승 패 세 이닝 타자 투구수 타수 피안...</td>\n",
       "    </tr>\n",
       "    <tr>\n",
       "      <th>700</th>\n",
       "      <td>2018.10.07(일)</td>\n",
       "      <td>구장 : 마산 관중 : 11,000 개시 : 14:00 종료 : 17:28 경기시간...</td>\n",
       "      <td>롯데 자이언츠 투수 기록\\n선수명 등판 결과 승 패 세 이닝 타자 투구수 타수 피안...</td>\n",
       "      <td>NC 다이노스 투수 기록\\n선수명 등판 결과 승 패 세 이닝 타자 투구수 타수 피안...</td>\n",
       "    </tr>\n",
       "    <tr>\n",
       "      <th>701</th>\n",
       "      <td>2018.10.07(일)</td>\n",
       "      <td>구장 : 잠실 관중 : 25,000 개시 : 14:00 종료 : 17:27 경기시간...</td>\n",
       "      <td>KIA 타이거즈 투수 기록\\n선수명 등판 결과 승 패 세 이닝 타자 투구수 타수 피...</td>\n",
       "      <td>두산 베어스 투수 기록\\n선수명 등판 결과 승 패 세 이닝 타자 투구수 타수 피안타...</td>\n",
       "    </tr>\n",
       "    <tr>\n",
       "      <th>702</th>\n",
       "      <td>2018.10.09(화)</td>\n",
       "      <td>구장 : 문학 관중 : 22,031 개시 : 13:59 종료 : 17:26 경기시간...</td>\n",
       "      <td>삼성 라이온즈 투수 기록\\n선수명 등판 결과 승 패 세 이닝 타자 투구수 타수 피안...</td>\n",
       "      <td>SK 와이번스 투수 기록\\n선수명 등판 결과 승 패 세 이닝 타자 투구수 타수 피안...</td>\n",
       "    </tr>\n",
       "    <tr>\n",
       "      <th>703</th>\n",
       "      <td>2018.10.09(화)</td>\n",
       "      <td>구장 : 사직 관중 : 25,000 개시 : 14:00 종료 : 18:45 경기시간...</td>\n",
       "      <td>KIA 타이거즈 투수 기록\\n선수명 등판 결과 승 패 세 이닝 타자 투구수 타수 피...</td>\n",
       "      <td>롯데 자이언츠 투수 기록\\n선수명 등판 결과 승 패 세 이닝 타자 투구수 타수 피안...</td>\n",
       "    </tr>\n",
       "    <tr>\n",
       "      <th>704</th>\n",
       "      <td>2018.10.09(화)</td>\n",
       "      <td>구장 : 수원 관중 : 20,512 개시 : 14:00 종료 : 17:45 경기시간...</td>\n",
       "      <td>한화 이글스 투수 기록\\n선수명 등판 결과 승 패 세 이닝 타자 투구수 타수 피안타...</td>\n",
       "      <td>KT 위즈 투수 기록\\n선수명 등판 결과 승 패 세 이닝 타자 투구수 타수 피안타 ...</td>\n",
       "    </tr>\n",
       "    <tr>\n",
       "      <th>705</th>\n",
       "      <td>2018.10.10(수)</td>\n",
       "      <td>구장 : 잠실 관중 : 11,126 개시 : 18:30 종료 : 22:15 경기시간...</td>\n",
       "      <td>SK 와이번스 투수 기록\\n선수명 등판 결과 승 패 세 이닝 타자 투구수 타수 피안...</td>\n",
       "      <td>두산 베어스 투수 기록\\n선수명 등판 결과 승 패 세 이닝 타자 투구수 타수 피안타...</td>\n",
       "    </tr>\n",
       "    <tr>\n",
       "      <th>706</th>\n",
       "      <td>2018.10.10(수)</td>\n",
       "      <td>구장 : 광주 관중 : 6,133 개시 : 18:29 종료 : 21:32 경기시간 ...</td>\n",
       "      <td>한화 이글스 투수 기록\\n선수명 등판 결과 승 패 세 이닝 타자 투구수 타수 피안타...</td>\n",
       "      <td>KIA 타이거즈 투수 기록\\n선수명 등판 결과 승 패 세 이닝 타자 투구수 타수 피...</td>\n",
       "    </tr>\n",
       "    <tr>\n",
       "      <th>707</th>\n",
       "      <td>2018.10.10(수)</td>\n",
       "      <td>구장 : 사직 관중 : 4,793 개시 : 14:59 종료 : 18:02 경기시간 ...</td>\n",
       "      <td>KT 위즈 투수 기록\\n선수명 등판 결과 승 패 세 이닝 타자 투구수 타수 피안타 ...</td>\n",
       "      <td>롯데 자이언츠 투수 기록\\n선수명 등판 결과 승 패 세 이닝 타자 투구수 타수 피안...</td>\n",
       "    </tr>\n",
       "    <tr>\n",
       "      <th>708</th>\n",
       "      <td>2018.10.10(수)</td>\n",
       "      <td>구장 : 사직 관중 : 11,528 개시 : 18:34 종료 : 21:01 경기시간...</td>\n",
       "      <td>KT 위즈 투수 기록\\n선수명 등판 결과 승 패 세 이닝 타자 투구수 타수 피안타 ...</td>\n",
       "      <td>롯데 자이언츠 투수 기록\\n선수명 등판 결과 승 패 세 이닝 타자 투구수 타수 피안...</td>\n",
       "    </tr>\n",
       "    <tr>\n",
       "      <th>709</th>\n",
       "      <td>2018.10.11(목)</td>\n",
       "      <td>구장 : 잠실 관중 : 10,987 개시 : 18:30 종료 : 21:25 경기시간...</td>\n",
       "      <td>SK 와이번스 투수 기록\\n선수명 등판 결과 승 패 세 이닝 타자 투구수 타수 피안...</td>\n",
       "      <td>두산 베어스 투수 기록\\n선수명 등판 결과 승 패 세 이닝 타자 투구수 타수 피안타...</td>\n",
       "    </tr>\n",
       "    <tr>\n",
       "      <th>710</th>\n",
       "      <td>2018.10.11(목)</td>\n",
       "      <td>구장 : 광주 관중 : 7,745 개시 : 18:29 종료 : 21:08 경기시간 ...</td>\n",
       "      <td>롯데 자이언츠 투수 기록\\n선수명 등판 결과 승 패 세 이닝 타자 투구수 타수 피안...</td>\n",
       "      <td>KIA 타이거즈 투수 기록\\n선수명 등판 결과 승 패 세 이닝 타자 투구수 타수 피...</td>\n",
       "    </tr>\n",
       "    <tr>\n",
       "      <th>711</th>\n",
       "      <td>2018.10.12(금)</td>\n",
       "      <td>구장 : 잠실 관중 : 10,914 개시 : 18:30 종료 : 21:45 경기시간...</td>\n",
       "      <td>NC 다이노스 투수 기록\\n선수명 등판 결과 승 패 세 이닝 타자 투구수 타수 피안...</td>\n",
       "      <td>두산 베어스 투수 기록\\n선수명 등판 결과 승 패 세 이닝 타자 투구수 타수 피안타...</td>\n",
       "    </tr>\n",
       "    <tr>\n",
       "      <th>712</th>\n",
       "      <td>2018.10.12(금)</td>\n",
       "      <td>구장 : 수원 관중 : 10,268 개시 : 18:31 종료 : 22:05 경기시간...</td>\n",
       "      <td>넥센 히어로즈 투수 기록\\n선수명 등판 결과 승 패 세 이닝 타자 투구수 타수 피안...</td>\n",
       "      <td>KT 위즈 투수 기록\\n선수명 등판 결과 승 패 세 이닝 타자 투구수 타수 피안타 ...</td>\n",
       "    </tr>\n",
       "    <tr>\n",
       "      <th>713</th>\n",
       "      <td>2018.10.12(금)</td>\n",
       "      <td>구장 : 광주 관중 : 12,318 개시 : 18:30 종료 : 21:49 경기시간...</td>\n",
       "      <td>롯데 자이언츠 투수 기록\\n선수명 등판 결과 승 패 세 이닝 타자 투구수 타수 피안...</td>\n",
       "      <td>KIA 타이거즈 투수 기록\\n선수명 등판 결과 승 패 세 이닝 타자 투구수 타수 피...</td>\n",
       "    </tr>\n",
       "    <tr>\n",
       "      <th>714</th>\n",
       "      <td>2018.10.13(토)</td>\n",
       "      <td>구장 : 잠실 관중 : 18,528 개시 : 17:01 종료 : 20:35 경기시간...</td>\n",
       "      <td>KT 위즈 투수 기록\\n선수명 등판 결과 승 패 세 이닝 타자 투구수 타수 피안타 ...</td>\n",
       "      <td>두산 베어스 투수 기록\\n선수명 등판 결과 승 패 세 이닝 타자 투구수 타수 피안타...</td>\n",
       "    </tr>\n",
       "    <tr>\n",
       "      <th>715</th>\n",
       "      <td>2018.10.13(토)</td>\n",
       "      <td>구장 : 문학 관중 : 22,399 개시 : 17:00 종료 : 20:04 경기시간...</td>\n",
       "      <td>LG 트윈스 투수 기록\\n선수명 등판 결과 승 패 세 이닝 타자 투구수 타수 피안타...</td>\n",
       "      <td>SK 와이번스 투수 기록\\n선수명 등판 결과 승 패 세 이닝 타자 투구수 타수 피안...</td>\n",
       "    </tr>\n",
       "    <tr>\n",
       "      <th>716</th>\n",
       "      <td>2018.10.13(토)</td>\n",
       "      <td>구장 : 대구 관중 : 24,000 개시 : 17:00 종료 : 20:25 경기시간...</td>\n",
       "      <td>넥센 히어로즈 투수 기록\\n선수명 등판 결과 승 패 세 이닝 타자 투구수 타수 피안...</td>\n",
       "      <td>삼성 라이온즈 투수 기록\\n선수명 등판 결과 승 패 세 이닝 타자 투구수 타수 피안...</td>\n",
       "    </tr>\n",
       "    <tr>\n",
       "      <th>717</th>\n",
       "      <td>2018.10.13(토)</td>\n",
       "      <td>구장 : 광주 관중 : 15,640 개시 : 16:59 종료 : 19:33 경기시간...</td>\n",
       "      <td>롯데 자이언츠 투수 기록\\n선수명 등판 결과 승 패 세 이닝 타자 투구수 타수 피안...</td>\n",
       "      <td>KIA 타이거즈 투수 기록\\n선수명 등판 결과 승 패 세 이닝 타자 투구수 타수 피...</td>\n",
       "    </tr>\n",
       "    <tr>\n",
       "      <th>718</th>\n",
       "      <td>2018.10.13(토)</td>\n",
       "      <td>구장 : 대전 관중 : 13,000 개시 : 16:59 종료 : 20:36 경기시간...</td>\n",
       "      <td>NC 다이노스 투수 기록\\n선수명 등판 결과 승 패 세 이닝 타자 투구수 타수 피안...</td>\n",
       "      <td>한화 이글스 투수 기록\\n선수명 등판 결과 승 패 세 이닝 타자 투구수 타수 피안타...</td>\n",
       "    </tr>\n",
       "    <tr>\n",
       "      <th>719</th>\n",
       "      <td>2018.10.14(일)</td>\n",
       "      <td>구장 : 사직 관중 : 6,414 개시 : 13:59 종료 : 16:34 경기시간 ...</td>\n",
       "      <td>두산 베어스 투수 기록\\n선수명 등판 결과 승 패 세 이닝 타자 투구수 타수 피안타...</td>\n",
       "      <td>롯데 자이언츠 투수 기록\\n선수명 등판 결과 승 패 세 이닝 타자 투구수 타수 피안...</td>\n",
       "    </tr>\n",
       "  </tbody>\n",
       "</table>\n",
       "<p>720 rows × 4 columns</p>\n",
       "</div>"
      ],
      "text/plain": [
       "                 0                                                  1  \\\n",
       "0    2018.03.24(토)  구장 : 마산 관중 : 11,000 개시 : 14:01 종료 : 16:48 경기시간...   \n",
       "1    2018.03.24(토)  구장 : 잠실 관중 : 25,000 개시 : 14:03 종료 : 17:09 경기시간...   \n",
       "2    2018.03.24(토)  구장 : 문학 관중 : 25,000 개시 : 13:59 종료 : 17:48 경기시간...   \n",
       "3    2018.03.24(토)  구장 : 광주 관중 : 20,500 개시 : 14:02 종료 : 17:21 경기시간...   \n",
       "4    2018.03.24(토)  구장 : 고척 관중 : 15,055 개시 : 14:01 종료 : 17:35 경기시간...   \n",
       "5    2018.03.25(일)  구장 : 마산 관중 : 11,000 개시 : 14:01 종료 : 17:23 경기시간...   \n",
       "6    2018.03.25(일)  구장 : 잠실 관중 : 20,240 개시 : 14:00 종료 : 16:48 경기시간...   \n",
       "7    2018.03.25(일)  구장 : 문학 관중 : 22,765 개시 : 13:58 종료 : 16:51 경기시간...   \n",
       "8    2018.03.25(일)  구장 : 광주 관중 : 20,500 개시 : 14:01 종료 : 16:47 경기시간...   \n",
       "9    2018.03.25(일)  구장 : 고척 관중 : 13,010 개시 : 14:00 종료 : 17:12 경기시간...   \n",
       "10   2018.03.27(화)  구장 : 마산 관중 : 5,037 개시 : 18:30 종료 : 21:59 경기시간 ...   \n",
       "11   2018.03.27(화)  구장 : 잠실 관중 : 10,391 개시 : 18:30 종료 : 21:38 경기시간...   \n",
       "12   2018.03.27(화)  구장 : 문학 관중 : 6,067 개시 : 18:30 종료 : 21:35 경기시간 ...   \n",
       "13   2018.03.27(화)  구장 : 광주 관중 : 6,892 개시 : 18:29 종료 : 21:30 경기시간 ...   \n",
       "14   2018.03.27(화)  구장 : 고척 관중 : 4,401 개시 : 18:30 종료 : 22:16 경기시간 ...   \n",
       "15   2018.03.28(수)  구장 : 마산 관중 : 5,003 개시 : 18:31 종료 : 21:59 경기시간 ...   \n",
       "16   2018.03.28(수)  구장 : 잠실 관중 : 10,382 개시 : 18:30 종료 : 21:54 경기시간...   \n",
       "17   2018.03.28(수)  구장 : 문학 관중 : 5,701 개시 : 18:30 종료 : 21:30 경기시간 ...   \n",
       "18   2018.03.28(수)  구장 : 광주 관중 : 8,347 개시 : 18:29 종료 : 21:28 경기시간 ...   \n",
       "19   2018.03.28(수)  구장 : 고척 관중 : 4,437 개시 : 18:30 종료 : 21:39 경기시간 ...   \n",
       "20   2018.03.29(목)  구장 : 마산 관중 : 4,872 개시 : 18:31 종료 : 22:03 경기시간 ...   \n",
       "21   2018.03.29(목)  구장 : 잠실 관중 : 10,956 개시 : 18:31 종료 : 21:27 경기시간...   \n",
       "22   2018.03.29(목)  구장 : 문학 관중 : 5,936 개시 : 18:30 종료 : 21:15 경기시간 ...   \n",
       "23   2018.03.29(목)  구장 : 광주 관중 : 7,839 개시 : 18:29 종료 : 21:56 경기시간 ...   \n",
       "24   2018.03.29(목)  구장 : 고척 관중 : 4,219 개시 : 18:30 종료 : 21:38 경기시간 ...   \n",
       "25   2018.03.30(금)  구장 : 잠실 관중 : 22,667 개시 : 18:30 종료 : 22:16 경기시간...   \n",
       "26   2018.03.30(금)  구장 : 사직 관중 : 21,124 개시 : 18:31 종료 : 21:54 경기시간...   \n",
       "27   2018.03.30(금)  구장 : 대구 관중 : 11,683 개시 : 18:32 종료 : 23:24 경기시간...   \n",
       "28   2018.03.30(금)  구장 : 대전 관중 : 10,354 개시 : 18:29 종료 : 21:41 경기시간...   \n",
       "29   2018.03.30(금)  구장 : 수원 관중 : 13,562 개시 : 19:00 종료 : 22:13 경기시간...   \n",
       "..             ...                                                ...   \n",
       "690  2018.10.03(수)  구장 : 대구 관중 : 19,432 개시 : 14:00 종료 : 17:37 경기시간...   \n",
       "691  2018.10.03(수)  구장 : 대전 관중 : 13,000 개시 : 13:59 종료 : 17:35 경기시간...   \n",
       "692  2018.10.04(목)  구장 : 문학 관중 : 13,556 개시 : 18:30 종료 : 22:01 경기시간...   \n",
       "693  2018.10.04(목)  구장 : 대전 관중 : 9,555 개시 : 18:29 종료 : 21:47 경기시간 ...   \n",
       "694  2018.10.06(토)  구장 : 마산 관중 : 5,297 개시 : 16:59 종료 : 20:15 경기시간 ...   \n",
       "695  2018.10.06(토)  구장 : 잠실 관중 : 19,891 개시 : 17:00 종료 : 19:54 경기시간...   \n",
       "696  2018.10.06(토)  구장 : 사직 관중 : 9,449 개시 : 16:59 종료 : 20:08 경기시간 ...   \n",
       "697  2018.10.06(토)  구장 : 수원 관중 : 8,291 개시 : 16:59 종료 : 20:00 경기시간 ...   \n",
       "698  2018.10.06(토)  구장 : 문학 관중 : 9,241 개시 : 15:00 종료 : 18:04 경기시간 ...   \n",
       "699  2018.10.06(토)  구장 : 문학 관중 : 22,002 개시 : 18:45 종료 : 21:54 경기시간...   \n",
       "700  2018.10.07(일)  구장 : 마산 관중 : 11,000 개시 : 14:00 종료 : 17:28 경기시간...   \n",
       "701  2018.10.07(일)  구장 : 잠실 관중 : 25,000 개시 : 14:00 종료 : 17:27 경기시간...   \n",
       "702  2018.10.09(화)  구장 : 문학 관중 : 22,031 개시 : 13:59 종료 : 17:26 경기시간...   \n",
       "703  2018.10.09(화)  구장 : 사직 관중 : 25,000 개시 : 14:00 종료 : 18:45 경기시간...   \n",
       "704  2018.10.09(화)  구장 : 수원 관중 : 20,512 개시 : 14:00 종료 : 17:45 경기시간...   \n",
       "705  2018.10.10(수)  구장 : 잠실 관중 : 11,126 개시 : 18:30 종료 : 22:15 경기시간...   \n",
       "706  2018.10.10(수)  구장 : 광주 관중 : 6,133 개시 : 18:29 종료 : 21:32 경기시간 ...   \n",
       "707  2018.10.10(수)  구장 : 사직 관중 : 4,793 개시 : 14:59 종료 : 18:02 경기시간 ...   \n",
       "708  2018.10.10(수)  구장 : 사직 관중 : 11,528 개시 : 18:34 종료 : 21:01 경기시간...   \n",
       "709  2018.10.11(목)  구장 : 잠실 관중 : 10,987 개시 : 18:30 종료 : 21:25 경기시간...   \n",
       "710  2018.10.11(목)  구장 : 광주 관중 : 7,745 개시 : 18:29 종료 : 21:08 경기시간 ...   \n",
       "711  2018.10.12(금)  구장 : 잠실 관중 : 10,914 개시 : 18:30 종료 : 21:45 경기시간...   \n",
       "712  2018.10.12(금)  구장 : 수원 관중 : 10,268 개시 : 18:31 종료 : 22:05 경기시간...   \n",
       "713  2018.10.12(금)  구장 : 광주 관중 : 12,318 개시 : 18:30 종료 : 21:49 경기시간...   \n",
       "714  2018.10.13(토)  구장 : 잠실 관중 : 18,528 개시 : 17:01 종료 : 20:35 경기시간...   \n",
       "715  2018.10.13(토)  구장 : 문학 관중 : 22,399 개시 : 17:00 종료 : 20:04 경기시간...   \n",
       "716  2018.10.13(토)  구장 : 대구 관중 : 24,000 개시 : 17:00 종료 : 20:25 경기시간...   \n",
       "717  2018.10.13(토)  구장 : 광주 관중 : 15,640 개시 : 16:59 종료 : 19:33 경기시간...   \n",
       "718  2018.10.13(토)  구장 : 대전 관중 : 13,000 개시 : 16:59 종료 : 20:36 경기시간...   \n",
       "719  2018.10.14(일)  구장 : 사직 관중 : 6,414 개시 : 13:59 종료 : 16:34 경기시간 ...   \n",
       "\n",
       "                                                     2  \\\n",
       "0    LG 트윈스 투수 기록\\n선수명 등판 결과 승 패 세 이닝 타자 투구수 타수 피안타...   \n",
       "1    삼성 라이온즈 투수 기록\\n선수명 등판 결과 승 패 세 이닝 타자 투구수 타수 피안...   \n",
       "2    롯데 자이언츠 투수 기록\\n선수명 등판 결과 승 패 세 이닝 타자 투구수 타수 피안...   \n",
       "3    KT 위즈 투수 기록\\n선수명 등판 결과 승 패 세 이닝 타자 투구수 타수 피안타 ...   \n",
       "4    한화 이글스 투수 기록\\n선수명 등판 결과 승 패 세 이닝 타자 투구수 타수 피안타...   \n",
       "5    LG 트윈스 투수 기록\\n선수명 등판 결과 승 패 세 이닝 타자 투구수 타수 피안타...   \n",
       "6    삼성 라이온즈 투수 기록\\n선수명 등판 결과 승 패 세 이닝 타자 투구수 타수 피안...   \n",
       "7    롯데 자이언츠 투수 기록\\n선수명 등판 결과 승 패 세 이닝 타자 투구수 타수 피안...   \n",
       "8    KT 위즈 투수 기록\\n선수명 등판 결과 승 패 세 이닝 타자 투구수 타수 피안타 ...   \n",
       "9    한화 이글스 투수 기록\\n선수명 등판 결과 승 패 세 이닝 타자 투구수 타수 피안타...   \n",
       "10   한화 이글스 투수 기록\\n선수명 등판 결과 승 패 세 이닝 타자 투구수 타수 피안타...   \n",
       "11   롯데 자이언츠 투수 기록\\n선수명 등판 결과 승 패 세 이닝 타자 투구수 타수 피안...   \n",
       "12   KT 위즈 투수 기록\\n선수명 등판 결과 승 패 세 이닝 타자 투구수 타수 피안타 ...   \n",
       "13   삼성 라이온즈 투수 기록\\n선수명 등판 결과 승 패 세 이닝 타자 투구수 타수 피안...   \n",
       "14   LG 트윈스 투수 기록\\n선수명 등판 결과 승 패 세 이닝 타자 투구수 타수 피안타...   \n",
       "15   한화 이글스 투수 기록\\n선수명 등판 결과 승 패 세 이닝 타자 투구수 타수 피안타...   \n",
       "16   롯데 자이언츠 투수 기록\\n선수명 등판 결과 승 패 세 이닝 타자 투구수 타수 피안...   \n",
       "17   KT 위즈 투수 기록\\n선수명 등판 결과 승 패 세 이닝 타자 투구수 타수 피안타 ...   \n",
       "18   삼성 라이온즈 투수 기록\\n선수명 등판 결과 승 패 세 이닝 타자 투구수 타수 피안...   \n",
       "19   LG 트윈스 투수 기록\\n선수명 등판 결과 승 패 세 이닝 타자 투구수 타수 피안타...   \n",
       "20   한화 이글스 투수 기록\\n선수명 등판 결과 승 패 세 이닝 타자 투구수 타수 피안타...   \n",
       "21   롯데 자이언츠 투수 기록\\n선수명 등판 결과 승 패 세 이닝 타자 투구수 타수 피안...   \n",
       "22   KT 위즈 투수 기록\\n선수명 등판 결과 승 패 세 이닝 타자 투구수 타수 피안타 ...   \n",
       "23   삼성 라이온즈 투수 기록\\n선수명 등판 결과 승 패 세 이닝 타자 투구수 타수 피안...   \n",
       "24   LG 트윈스 투수 기록\\n선수명 등판 결과 승 패 세 이닝 타자 투구수 타수 피안타...   \n",
       "25   KIA 타이거즈 투수 기록\\n선수명 등판 결과 승 패 세 이닝 타자 투구수 타수 피...   \n",
       "26   NC 다이노스 투수 기록\\n선수명 등판 결과 승 패 세 이닝 타자 투구수 타수 피안...   \n",
       "27   넥센 히어로즈 투수 기록\\n선수명 등판 결과 승 패 세 이닝 타자 투구수 타수 피안...   \n",
       "28   SK 와이번스 투수 기록\\n선수명 등판 결과 승 패 세 이닝 타자 투구수 타수 피안...   \n",
       "29   두산 베어스 투수 기록\\n선수명 등판 결과 승 패 세 이닝 타자 투구수 타수 피안타...   \n",
       "..                                                 ...   \n",
       "690  KIA 타이거즈 투수 기록\\n선수명 등판 결과 승 패 세 이닝 타자 투구수 타수 피...   \n",
       "691  롯데 자이언츠 투수 기록\\n선수명 등판 결과 승 패 세 이닝 타자 투구수 타수 피안...   \n",
       "692  KIA 타이거즈 투수 기록\\n선수명 등판 결과 승 패 세 이닝 타자 투구수 타수 피...   \n",
       "693  롯데 자이언츠 투수 기록\\n선수명 등판 결과 승 패 세 이닝 타자 투구수 타수 피안...   \n",
       "694  넥센 히어로즈 투수 기록\\n선수명 등판 결과 승 패 세 이닝 타자 투구수 타수 피안...   \n",
       "695  LG 트윈스 투수 기록\\n선수명 등판 결과 승 패 세 이닝 타자 투구수 타수 피안타...   \n",
       "696  한화 이글스 투수 기록\\n선수명 등판 결과 승 패 세 이닝 타자 투구수 타수 피안타...   \n",
       "697  삼성 라이온즈 투수 기록\\n선수명 등판 결과 승 패 세 이닝 타자 투구수 타수 피안...   \n",
       "698  KIA 타이거즈 투수 기록\\n선수명 등판 결과 승 패 세 이닝 타자 투구수 타수 피...   \n",
       "699  KIA 타이거즈 투수 기록\\n선수명 등판 결과 승 패 세 이닝 타자 투구수 타수 피...   \n",
       "700  롯데 자이언츠 투수 기록\\n선수명 등판 결과 승 패 세 이닝 타자 투구수 타수 피안...   \n",
       "701  KIA 타이거즈 투수 기록\\n선수명 등판 결과 승 패 세 이닝 타자 투구수 타수 피...   \n",
       "702  삼성 라이온즈 투수 기록\\n선수명 등판 결과 승 패 세 이닝 타자 투구수 타수 피안...   \n",
       "703  KIA 타이거즈 투수 기록\\n선수명 등판 결과 승 패 세 이닝 타자 투구수 타수 피...   \n",
       "704  한화 이글스 투수 기록\\n선수명 등판 결과 승 패 세 이닝 타자 투구수 타수 피안타...   \n",
       "705  SK 와이번스 투수 기록\\n선수명 등판 결과 승 패 세 이닝 타자 투구수 타수 피안...   \n",
       "706  한화 이글스 투수 기록\\n선수명 등판 결과 승 패 세 이닝 타자 투구수 타수 피안타...   \n",
       "707  KT 위즈 투수 기록\\n선수명 등판 결과 승 패 세 이닝 타자 투구수 타수 피안타 ...   \n",
       "708  KT 위즈 투수 기록\\n선수명 등판 결과 승 패 세 이닝 타자 투구수 타수 피안타 ...   \n",
       "709  SK 와이번스 투수 기록\\n선수명 등판 결과 승 패 세 이닝 타자 투구수 타수 피안...   \n",
       "710  롯데 자이언츠 투수 기록\\n선수명 등판 결과 승 패 세 이닝 타자 투구수 타수 피안...   \n",
       "711  NC 다이노스 투수 기록\\n선수명 등판 결과 승 패 세 이닝 타자 투구수 타수 피안...   \n",
       "712  넥센 히어로즈 투수 기록\\n선수명 등판 결과 승 패 세 이닝 타자 투구수 타수 피안...   \n",
       "713  롯데 자이언츠 투수 기록\\n선수명 등판 결과 승 패 세 이닝 타자 투구수 타수 피안...   \n",
       "714  KT 위즈 투수 기록\\n선수명 등판 결과 승 패 세 이닝 타자 투구수 타수 피안타 ...   \n",
       "715  LG 트윈스 투수 기록\\n선수명 등판 결과 승 패 세 이닝 타자 투구수 타수 피안타...   \n",
       "716  넥센 히어로즈 투수 기록\\n선수명 등판 결과 승 패 세 이닝 타자 투구수 타수 피안...   \n",
       "717  롯데 자이언츠 투수 기록\\n선수명 등판 결과 승 패 세 이닝 타자 투구수 타수 피안...   \n",
       "718  NC 다이노스 투수 기록\\n선수명 등판 결과 승 패 세 이닝 타자 투구수 타수 피안...   \n",
       "719  두산 베어스 투수 기록\\n선수명 등판 결과 승 패 세 이닝 타자 투구수 타수 피안타...   \n",
       "\n",
       "                                                     3  \n",
       "0    NC 다이노스 투수 기록\\n선수명 등판 결과 승 패 세 이닝 타자 투구수 타수 피안...  \n",
       "1    두산 베어스 투수 기록\\n선수명 등판 결과 승 패 세 이닝 타자 투구수 타수 피안타...  \n",
       "2    SK 와이번스 투수 기록\\n선수명 등판 결과 승 패 세 이닝 타자 투구수 타수 피안...  \n",
       "3    KIA 타이거즈 투수 기록\\n선수명 등판 결과 승 패 세 이닝 타자 투구수 타수 피...  \n",
       "4    넥센 히어로즈 투수 기록\\n선수명 등판 결과 승 패 세 이닝 타자 투구수 타수 피안...  \n",
       "5    NC 다이노스 투수 기록\\n선수명 등판 결과 승 패 세 이닝 타자 투구수 타수 피안...  \n",
       "6    두산 베어스 투수 기록\\n선수명 등판 결과 승 패 세 이닝 타자 투구수 타수 피안타...  \n",
       "7    SK 와이번스 투수 기록\\n선수명 등판 결과 승 패 세 이닝 타자 투구수 타수 피안...  \n",
       "8    KIA 타이거즈 투수 기록\\n선수명 등판 결과 승 패 세 이닝 타자 투구수 타수 피...  \n",
       "9    넥센 히어로즈 투수 기록\\n선수명 등판 결과 승 패 세 이닝 타자 투구수 타수 피안...  \n",
       "10   NC 다이노스 투수 기록\\n선수명 등판 결과 승 패 세 이닝 타자 투구수 타수 피안...  \n",
       "11   두산 베어스 투수 기록\\n선수명 등판 결과 승 패 세 이닝 타자 투구수 타수 피안타...  \n",
       "12   SK 와이번스 투수 기록\\n선수명 등판 결과 승 패 세 이닝 타자 투구수 타수 피안...  \n",
       "13   KIA 타이거즈 투수 기록\\n선수명 등판 결과 승 패 세 이닝 타자 투구수 타수 피...  \n",
       "14   넥센 히어로즈 투수 기록\\n선수명 등판 결과 승 패 세 이닝 타자 투구수 타수 피안...  \n",
       "15   NC 다이노스 투수 기록\\n선수명 등판 결과 승 패 세 이닝 타자 투구수 타수 피안...  \n",
       "16   두산 베어스 투수 기록\\n선수명 등판 결과 승 패 세 이닝 타자 투구수 타수 피안타...  \n",
       "17   SK 와이번스 투수 기록\\n선수명 등판 결과 승 패 세 이닝 타자 투구수 타수 피안...  \n",
       "18   KIA 타이거즈 투수 기록\\n선수명 등판 결과 승 패 세 이닝 타자 투구수 타수 피...  \n",
       "19   넥센 히어로즈 투수 기록\\n선수명 등판 결과 승 패 세 이닝 타자 투구수 타수 피안...  \n",
       "20   NC 다이노스 투수 기록\\n선수명 등판 결과 승 패 세 이닝 타자 투구수 타수 피안...  \n",
       "21   두산 베어스 투수 기록\\n선수명 등판 결과 승 패 세 이닝 타자 투구수 타수 피안타...  \n",
       "22   SK 와이번스 투수 기록\\n선수명 등판 결과 승 패 세 이닝 타자 투구수 타수 피안...  \n",
       "23   KIA 타이거즈 투수 기록\\n선수명 등판 결과 승 패 세 이닝 타자 투구수 타수 피...  \n",
       "24   넥센 히어로즈 투수 기록\\n선수명 등판 결과 승 패 세 이닝 타자 투구수 타수 피안...  \n",
       "25   LG 트윈스 투수 기록\\n선수명 등판 결과 승 패 세 이닝 타자 투구수 타수 피안타...  \n",
       "26   롯데 자이언츠 투수 기록\\n선수명 등판 결과 승 패 세 이닝 타자 투구수 타수 피안...  \n",
       "27   삼성 라이온즈 투수 기록\\n선수명 등판 결과 승 패 세 이닝 타자 투구수 타수 피안...  \n",
       "28   한화 이글스 투수 기록\\n선수명 등판 결과 승 패 세 이닝 타자 투구수 타수 피안타...  \n",
       "29   KT 위즈 투수 기록\\n선수명 등판 결과 승 패 세 이닝 타자 투구수 타수 피안타 ...  \n",
       "..                                                 ...  \n",
       "690  삼성 라이온즈 투수 기록\\n선수명 등판 결과 승 패 세 이닝 타자 투구수 타수 피안...  \n",
       "691  한화 이글스 투수 기록\\n선수명 등판 결과 승 패 세 이닝 타자 투구수 타수 피안타...  \n",
       "692  SK 와이번스 투수 기록\\n선수명 등판 결과 승 패 세 이닝 타자 투구수 타수 피안...  \n",
       "693  한화 이글스 투수 기록\\n선수명 등판 결과 승 패 세 이닝 타자 투구수 타수 피안타...  \n",
       "694  NC 다이노스 투수 기록\\n선수명 등판 결과 승 패 세 이닝 타자 투구수 타수 피안...  \n",
       "695  두산 베어스 투수 기록\\n선수명 등판 결과 승 패 세 이닝 타자 투구수 타수 피안타...  \n",
       "696  롯데 자이언츠 투수 기록\\n선수명 등판 결과 승 패 세 이닝 타자 투구수 타수 피안...  \n",
       "697  KT 위즈 투수 기록\\n선수명 등판 결과 승 패 세 이닝 타자 투구수 타수 피안타 ...  \n",
       "698  SK 와이번스 투수 기록\\n선수명 등판 결과 승 패 세 이닝 타자 투구수 타수 피안...  \n",
       "699  SK 와이번스 투수 기록\\n선수명 등판 결과 승 패 세 이닝 타자 투구수 타수 피안...  \n",
       "700  NC 다이노스 투수 기록\\n선수명 등판 결과 승 패 세 이닝 타자 투구수 타수 피안...  \n",
       "701  두산 베어스 투수 기록\\n선수명 등판 결과 승 패 세 이닝 타자 투구수 타수 피안타...  \n",
       "702  SK 와이번스 투수 기록\\n선수명 등판 결과 승 패 세 이닝 타자 투구수 타수 피안...  \n",
       "703  롯데 자이언츠 투수 기록\\n선수명 등판 결과 승 패 세 이닝 타자 투구수 타수 피안...  \n",
       "704  KT 위즈 투수 기록\\n선수명 등판 결과 승 패 세 이닝 타자 투구수 타수 피안타 ...  \n",
       "705  두산 베어스 투수 기록\\n선수명 등판 결과 승 패 세 이닝 타자 투구수 타수 피안타...  \n",
       "706  KIA 타이거즈 투수 기록\\n선수명 등판 결과 승 패 세 이닝 타자 투구수 타수 피...  \n",
       "707  롯데 자이언츠 투수 기록\\n선수명 등판 결과 승 패 세 이닝 타자 투구수 타수 피안...  \n",
       "708  롯데 자이언츠 투수 기록\\n선수명 등판 결과 승 패 세 이닝 타자 투구수 타수 피안...  \n",
       "709  두산 베어스 투수 기록\\n선수명 등판 결과 승 패 세 이닝 타자 투구수 타수 피안타...  \n",
       "710  KIA 타이거즈 투수 기록\\n선수명 등판 결과 승 패 세 이닝 타자 투구수 타수 피...  \n",
       "711  두산 베어스 투수 기록\\n선수명 등판 결과 승 패 세 이닝 타자 투구수 타수 피안타...  \n",
       "712  KT 위즈 투수 기록\\n선수명 등판 결과 승 패 세 이닝 타자 투구수 타수 피안타 ...  \n",
       "713  KIA 타이거즈 투수 기록\\n선수명 등판 결과 승 패 세 이닝 타자 투구수 타수 피...  \n",
       "714  두산 베어스 투수 기록\\n선수명 등판 결과 승 패 세 이닝 타자 투구수 타수 피안타...  \n",
       "715  SK 와이번스 투수 기록\\n선수명 등판 결과 승 패 세 이닝 타자 투구수 타수 피안...  \n",
       "716  삼성 라이온즈 투수 기록\\n선수명 등판 결과 승 패 세 이닝 타자 투구수 타수 피안...  \n",
       "717  KIA 타이거즈 투수 기록\\n선수명 등판 결과 승 패 세 이닝 타자 투구수 타수 피...  \n",
       "718  한화 이글스 투수 기록\\n선수명 등판 결과 승 패 세 이닝 타자 투구수 타수 피안타...  \n",
       "719  롯데 자이언츠 투수 기록\\n선수명 등판 결과 승 패 세 이닝 타자 투구수 타수 피안...  \n",
       "\n",
       "[720 rows x 4 columns]"
      ]
     },
     "execution_count": 270,
     "metadata": {},
     "output_type": "execute_result"
    }
   ],
   "source": [
    "df_kbo_18"
   ]
  },
  {
   "cell_type": "code",
   "execution_count": 271,
   "metadata": {},
   "outputs": [],
   "source": [
    "df_kbo_18.to_csv(\"C:/Users/HWNAG/Desktop/MJ's_analysis/kbo_18.csv\", header = True, index = True, encoding = 'cp949')"
   ]
  },
  {
   "cell_type": "code",
   "execution_count": null,
   "metadata": {},
   "outputs": [],
   "source": []
  },
  {
   "cell_type": "code",
   "execution_count": 58,
   "metadata": {},
   "outputs": [],
   "source": [
    "link = driver.find_element_by_css_selector('#contents > div.today-game > div > div.bx-viewport > ul > li:nth-child(1) > div.game-cont')\n",
    "link.click() #5경기 중 가장 첫경기 클릭"
   ]
  },
  {
   "cell_type": "code",
   "execution_count": 57,
   "metadata": {},
   "outputs": [],
   "source": [
    "link = driver.find_element_by_css_selector('#tabDepth2 > li:nth-child(2) > a')\n",
    "link.click() #리뷰 클릭"
   ]
  },
  {
   "cell_type": "code",
   "execution_count": 39,
   "metadata": {},
   "outputs": [],
   "source": [
    "#게임클릭\n",
    "#contents > div.today-game > div > div.bx-viewport > ul > li.on.list-review > div.game-cont\n",
    "#contents > div.today-game > div > div.bx-viewport > ul > li:nth-child(2) > div.game-cont\n",
    "#contents > div.today-game > div > div.bx-viewport > ul > li:nth-child(3) > div.game-cont\n",
    "#contents > div.today-game > div > div.bx-viewport > ul > li:nth-child(4) > div.game-cont\n",
    "#contents > div.today-game > div > div.bx-viewport > ul > li:nth-child(5) > div.game-cont"
   ]
  },
  {
   "cell_type": "code",
   "execution_count": null,
   "metadata": {},
   "outputs": [],
   "source": [
    "#날짜\n",
    "#lblGameDate"
   ]
  },
  {
   "cell_type": "code",
   "execution_count": 41,
   "metadata": {},
   "outputs": [
    {
     "data": {
      "text/plain": [
       "'2018.03.24(토)'"
      ]
     },
     "execution_count": 41,
     "metadata": {},
     "output_type": "execute_result"
    }
   ],
   "source": [
    "link = driver.find_element_by_css_selector('#lblGameDate')\n",
    "link.text"
   ]
  },
  {
   "cell_type": "code",
   "execution_count": 44,
   "metadata": {},
   "outputs": [
    {
     "data": {
      "text/plain": [
       "'LG 트윈스 투수 기록\\n선수명 등판 결과 승 패 세 이닝 타자 투구수 타수 피안타 홈런 4사구 삼진 실점 자책 평균자책점\\n윌슨 선발 패 0 1 0 6 25 103 21 5 0 3 7 2 2 3.00\\n임정우 7.8   0 0 0 1/3 2 9 1 0 0 1 0 0 0 0.00\\n진해수 7.1   0 0 0 2/3 3 11 3 1 0 0 1 0 0 0.00\\n신정락 8.4   0 0 0 1 5 18 5 3 1 0 1 2 2 18.00\\nTOTAL 8 35 141 30 9 1 4 9 4 4 4.50'"
      ]
     },
     "execution_count": 44,
     "metadata": {},
     "output_type": "execute_result"
    }
   ],
   "source": [
    "link = driver.find_element_by_css_selector('#gameCenterContents > div:nth-child(6)')\n",
    "link.text"
   ]
  },
  {
   "cell_type": "code",
   "execution_count": 45,
   "metadata": {},
   "outputs": [
    {
     "data": {
      "text/plain": [
       "'NC 다이노스 투수 기록\\n선수명 등판 결과 승 패 세 이닝 타자 투구수 타수 피안타 홈런 4사구 삼진 실점 자책 평균자책점\\n왕웨이중 선발 승 1 0 0 7 25 89 23 6 0 1 6 1 1 1.29\\n김진성 8.8 홀드 0 0 0 1 4 10 4 1 1 0 1 1 1 9.00\\n강윤구 9.3 홀드 0 0 0 1/3 1 6 1 0 0 0 1 0 0 0.00\\n원종현 9.4 세 0 0 1 2/3 2 8 2 0 0 0 1 0 0 0.00\\nTOTAL 9 32 113 30 7 1 1 9 2 2 2.00'"
      ]
     },
     "execution_count": 45,
     "metadata": {},
     "output_type": "execute_result"
    }
   ],
   "source": [
    "link = driver.find_element_by_css_selector('#gameCenterContents > div:nth-child(7)')\n",
    "link.text"
   ]
  },
  {
   "cell_type": "code",
   "execution_count": 51,
   "metadata": {},
   "outputs": [
    {
     "data": {
      "text/plain": [
       "'구장 : 마산 관중 : 11,000 개시 : 14:01 종료 : 16:48 경기시간 : 2:47\\n  TEAM\\n패 0승 1패 0무\\n승 1승 0패 0무\\n1 2 3 4 5 6 7 8 9 10 11 12\\n0 1 0 0 0 0 0 0 1 - - -\\n0 0 2 0 0 0 0 2 - - - -\\nR H E B\\n2 7 0 1\\n4 9 0 4'"
      ]
     },
     "execution_count": 51,
     "metadata": {},
     "output_type": "execute_result"
    }
   ],
   "source": [
    "link = driver.find_element_by_css_selector('#gameCenterContents > div:nth-child(2)')\n",
    "link.text"
   ]
  },
  {
   "cell_type": "code",
   "execution_count": null,
   "metadata": {},
   "outputs": [],
   "source": []
  }
 ],
 "metadata": {
  "kernelspec": {
   "display_name": "Python 3",
   "language": "python",
   "name": "python3"
  },
  "language_info": {
   "codemirror_mode": {
    "name": "ipython",
    "version": 3
   },
   "file_extension": ".py",
   "mimetype": "text/x-python",
   "name": "python",
   "nbconvert_exporter": "python",
   "pygments_lexer": "ipython3",
   "version": "3.6.3"
  }
 },
 "nbformat": 4,
 "nbformat_minor": 2
}
